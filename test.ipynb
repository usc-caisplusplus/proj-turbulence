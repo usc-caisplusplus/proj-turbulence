{
 "cells": [
  {
   "cell_type": "code",
   "execution_count": null,
   "id": "b7e01a61",
   "metadata": {},
   "outputs": [],
   "source": [
    "import numpy as np\n",
    "import pandas as pd\n",
    "import matplotlib.pyplot as plt\n",
    "import cartopy.crs as ccrs\n",
    "import plotly.express as px\n",
    "import math"
   ]
  },
  {
   "cell_type": "code",
   "execution_count": null,
   "id": "22d18600",
   "metadata": {},
   "outputs": [],
   "source": [
    "data = np.load('Era_wind.npz')"
   ]
  },
  {
   "cell_type": "code",
   "execution_count": null,
   "id": "c6b6da6f",
   "metadata": {},
   "outputs": [],
   "source": [
    "list(data.keys())"
   ]
  },
  {
   "cell_type": "code",
   "execution_count": null,
   "id": "ce24fa9d",
   "metadata": {},
   "outputs": [],
   "source": [
    "for key in data.keys():\n",
    "    print(key)                       \n",
    "    print(data[key])  "
   ]
  },
  {
   "cell_type": "code",
   "execution_count": null,
   "id": "95297e09",
   "metadata": {},
   "outputs": [],
   "source": [
    "wind_v = data[\"wind_v\"][:1, 3]"
   ]
  },
  {
   "cell_type": "code",
   "execution_count": null,
   "id": "2cd89bb4",
   "metadata": {},
   "outputs": [],
   "source": [
    "print(wind_v.shape)"
   ]
  },
  {
   "cell_type": "code",
   "execution_count": null,
   "id": "08329e90",
   "metadata": {},
   "outputs": [],
   "source": [
    "print(wind_v)"
   ]
  },
  {
   "cell_type": "code",
   "execution_count": null,
   "id": "b5ab7d6b",
   "metadata": {},
   "outputs": [],
   "source": [
    "level_index = 3 # get all values at 300 Pa\n",
    "lat_index = 0\n",
    "lon_index = 0\n",
    "\n",
    "wind_v_subset = data['wind_v'][:24, level_index, lat_index, lon_index]"
   ]
  },
  {
   "cell_type": "code",
   "execution_count": null,
   "id": "64355fa4",
   "metadata": {},
   "outputs": [],
   "source": [
    "lat = data['wind_v'][:1, 3, 1, 1]\n",
    "print(lat)"
   ]
  },
  {
   "cell_type": "code",
   "execution_count": null,
   "id": "d7c726f2",
   "metadata": {},
   "outputs": [],
   "source": [
    "lons = data['lon']\n",
    "lats = data['lat']\n",
    "\n",
    "print(\"Longitude range:\", np.ptp(lons))\n",
    "print(\"Latitude range:\", np.ptp(lats))"
   ]
  },
  {
   "cell_type": "code",
   "execution_count": null,
   "id": "8f7869dc",
   "metadata": {},
   "outputs": [],
   "source": [
    "wide = np.squeeze(wind_v)"
   ]
  },
  {
   "cell_type": "code",
   "execution_count": null,
   "id": "8f1b4c40",
   "metadata": {},
   "outputs": [],
   "source": [
    "new_wind_v.shape"
   ]
  },
  {
   "cell_type": "code",
   "execution_count": null,
   "id": "e41c6fa0",
   "metadata": {},
   "outputs": [],
   "source": [
    "first_hour = pd.DataFrame(wide)\n",
    "first_hour.columns = lons\n",
    "first_hour.index = lats"
   ]
  },
  {
   "cell_type": "code",
   "execution_count": null,
   "id": "773c364d",
   "metadata": {},
   "outputs": [],
   "source": [
    "first_hour"
   ]
  },
  {
   "cell_type": "code",
   "execution_count": null,
   "id": "4865b8fe",
   "metadata": {},
   "outputs": [],
   "source": [
    "first_hourm = first_hour.melt(ignore_index=False).reset_index()\n"
   ]
  },
  {
   "cell_type": "code",
   "execution_count": null,
   "id": "9446021b",
   "metadata": {},
   "outputs": [],
   "source": [
    "first_hourm.columns = ['lat', 'lon', 'wind_v']\n",
    "first_hourm"
   ]
  },
  {
   "cell_type": "code",
   "execution_count": null,
   "id": "54d34ff7",
   "metadata": {},
   "outputs": [],
   "source": [
    "wind_u = data[\"wind_u\"][:1, 3]"
   ]
  },
  {
   "cell_type": "code",
   "execution_count": null,
   "id": "b79f491c",
   "metadata": {},
   "outputs": [],
   "source": [
    "wide_u = np.squeeze(wind_u)"
   ]
  },
  {
   "cell_type": "code",
   "execution_count": null,
   "id": "a9155dd7",
   "metadata": {},
   "outputs": [],
   "source": [
    "wide_u.shape"
   ]
  },
  {
   "cell_type": "code",
   "execution_count": null,
   "id": "cbc47e37",
   "metadata": {},
   "outputs": [],
   "source": [
    "first_hour_u = pd.DataFrame(wide_u)\n",
    "first_hour_u.columns = lons\n",
    "first_hour_u.index = lats"
   ]
  },
  {
   "cell_type": "code",
   "execution_count": null,
   "id": "98c4b12d",
   "metadata": {},
   "outputs": [],
   "source": [
    "first_hour_u"
   ]
  },
  {
   "cell_type": "code",
   "execution_count": null,
   "id": "e9956b14",
   "metadata": {},
   "outputs": [],
   "source": [
    "first_hour_um = first_hour_u.melt(ignore_index=False).reset_index()\n"
   ]
  },
  {
   "cell_type": "code",
   "execution_count": null,
   "id": "27516317",
   "metadata": {},
   "outputs": [],
   "source": [
    "first_hour_um.columns = ['lat', 'lon', 'wind_u']\n",
    "first_hour_um"
   ]
  },
  {
   "cell_type": "code",
   "execution_count": null,
   "id": "00845365",
   "metadata": {},
   "outputs": [],
   "source": [
    "first_hour_comb = pd.merge(first_hourm, first_hour_um, 'left', on = ['lat', 'lon'])"
   ]
  },
  {
   "cell_type": "code",
   "execution_count": null,
   "id": "e4b0f069",
   "metadata": {},
   "outputs": [],
   "source": [
    "first_hour_comb"
   ]
  },
  {
   "cell_type": "code",
   "execution_count": null,
   "id": "d65498ce",
   "metadata": {},
   "outputs": [],
   "source": [
    "first_hour_comb = first_hour_comb.assign(wind_scalar = lambda first_hour_comb: np.sqrt(first_hour_comb.wind_v**2 + first_hour_comb.wind_u**2)) "
   ]
  },
  {
   "cell_type": "code",
   "execution_count": null,
   "id": "f3508eb2",
   "metadata": {
    "scrolled": true
   },
   "outputs": [],
   "source": [
    "first_hour_comb"
   ]
  },
  {
   "cell_type": "code",
   "execution_count": null,
   "id": "11e55a6a",
   "metadata": {},
   "outputs": [],
   "source": [
    "fig = px.scatter_geo(first_hour_comb,lat='lat',lon='lon', hover_name=\"wind_scalar\", color = \"wind_scalar\")\n",
    "fig.update_layout(title = 'World map', title_x=0.5)\n",
    "fig.show()"
   ]
  },
  {
   "cell_type": "markdown",
   "id": "f9da2a94",
   "metadata": {},
   "source": [
    "Create function that creates a dataframe of each component of wind at 300 Pa and then joins them and calculates wind scalar"
   ]
  },
  {
   "cell_type": "code",
   "execution_count": null,
   "id": "398c5b4c",
   "metadata": {},
   "outputs": [],
   "source": [
    "def wind_scalar(hour):\n",
    "    \n",
    "    lons = data['lon']\n",
    "    lats = data['lat']\n",
    "\n",
    "    wind_v = data['wind_v'][hour-1:hour, 3] # get values at all lat and long at 300 Pa for one hour\n",
    "    \n",
    "    wind_v_squeeze = np.squeeze(wind_v) # turn 3d array into 2d (collapse into one table)\n",
    "    \n",
    "    wind_v_df = pd.DataFrame(wind_v_squeeze) # convert 2d array to DF\n",
    "    wind_v_df.columns = lons           # change cols to longitude values\n",
    "    wind_v_df.index = lats             # change rows to lat values\n",
    "    \n",
    "    wind_v_melt = wind_v_df.melt(ignore_index=False).reset_index() # pivot the df longer so each lat and long has its own row\n",
    "    wind_v_melt.columns = ['lat', 'lon', 'wind_v']\n",
    "    \n",
    "    # repeat process for the u value\n",
    "    wind_u = data['wind_u'][hour-1:hour, 3] # get values at all lat and long at 300 Pa for one hour\n",
    "    \n",
    "    wind_u_squeeze = np.squeeze(wind_u) # turn 3d array into 2d (collapse into one table)\n",
    "    \n",
    "    wind_u_df = pd.DataFrame(wind_u_squeeze) # convert 2d array to DF\n",
    "    wind_u_df.columns = lons           # change cols to longitude values\n",
    "    wind_u_df.index = lats             # change rows to lat values\n",
    "    \n",
    "    wind_u_melt = wind_u_df.melt(ignore_index=False).reset_index() # pivot the df longer so each lat and long has its own row\n",
    "    wind_u_melt.columns = ['lat', 'lon', 'wind_u']\n",
    "    \n",
    "    \n",
    "    # join the two dfs \n",
    "    combined = pd.merge(wind_v_melt, wind_u_melt, 'left', on = ['lat', 'lon'])\n",
    "    \n",
    "    # create new scalar column\n",
    "    combined = combined.assign(wind_scalar = lambda combined: np.sqrt(combined.wind_v**2 + combined.wind_u**2)) \n",
    "    combined['hour'] = hour\n",
    "    \n",
    "    return combined\n"
   ]
  },
  {
   "cell_type": "code",
   "execution_count": null,
   "id": "6dc4ca54",
   "metadata": {},
   "outputs": [],
   "source": [
    "hour2 = wind_scalar(2)"
   ]
  },
  {
   "cell_type": "code",
   "execution_count": null,
   "id": "d23067d0",
   "metadata": {},
   "outputs": [],
   "source": [
    "hour2"
   ]
  },
  {
   "cell_type": "code",
   "execution_count": null,
   "id": "3573fcc3",
   "metadata": {},
   "outputs": [],
   "source": [
    "result = []\n",
    "\n",
    "for hour in range(1,25):\n",
    "    df_loop = wind_scalar(hour)\n",
    "    \n",
    "    result.append(df_loop)\n"
   ]
  },
  {
   "cell_type": "code",
   "execution_count": null,
   "id": "9d4a73dd",
   "metadata": {},
   "outputs": [],
   "source": [
    "final = pd.concat(result)"
   ]
  },
  {
   "cell_type": "code",
   "execution_count": null,
   "id": "b8114ee9",
   "metadata": {},
   "outputs": [],
   "source": [
    "fig = px.scatter_geo(final,lat='lat',lon='lon', hover_name=\"wind_scalar\", color = \"wind_scalar\", animation_frame = 'hour')\n",
    "fig.update_layout(title = 'World map', title_x=0.5)\n",
    "fig.show()"
   ]
  },
  {
   "cell_type": "code",
   "execution_count": null,
   "id": "57c4a10b",
   "metadata": {},
   "outputs": [],
   "source": [
    "hour2 = wind_scalar(23)\n",
    "\n",
    "fig = px.scatter_geo(hour2,lat='lat',lon='lon', hover_name=\"wind_scalar\", color = \"wind_scalar\")\n",
    "fig.update_layout(title = 'World map', title_x=0.5)\n",
    "fig.show()"
   ]
  },
  {
   "cell_type": "code",
   "execution_count": null,
   "id": "aa86d20b",
   "metadata": {},
   "outputs": [],
   "source": [
    "hour3 = wind_scalar(1)\n",
    "\n",
    "fig = px.scatter_geo(hour3,lat='lat',lon='lon', hover_name=\"wind_scalar\", color = \"wind_scalar\")\n",
    "fig.update_layout(title = 'World map', title_x=0.5)\n",
    "fig.show()"
   ]
  },
  {
   "cell_type": "code",
   "execution_count": null,
   "id": "3732b7be",
   "metadata": {},
   "outputs": [],
   "source": [
    "hour3"
   ]
  },
  {
   "cell_type": "code",
   "execution_count": null,
   "id": "68b319a2",
   "metadata": {},
   "outputs": [],
   "source": []
  }
 ],
 "metadata": {
  "kernelspec": {
   "display_name": "Python 3 (ipykernel)",
   "language": "python",
   "name": "python3"
  },
  "language_info": {
   "codemirror_mode": {
    "name": "ipython",
    "version": 3
   },
   "file_extension": ".py",
   "mimetype": "text/x-python",
   "name": "python",
   "nbconvert_exporter": "python",
   "pygments_lexer": "ipython3",
   "version": "3.10.9"
  }
 },
 "nbformat": 4,
 "nbformat_minor": 5
}
