{
 "cells": [
  {
   "cell_type": "code",
   "execution_count": 165,
   "id": "87200a9b",
   "metadata": {},
   "outputs": [],
   "source": [
    "import numpy as np\n",
    "import os"
   ]
  },
  {
   "cell_type": "code",
   "execution_count": 166,
   "id": "fe6ddf6a",
   "metadata": {},
   "outputs": [
    {
     "data": {
      "text/plain": [
       "'C:\\\\Users\\\\llaur\\\\OneDrive\\\\Desktop\\\\turb\\\\proj-turbulence\\\\test'"
      ]
     },
     "execution_count": 166,
     "metadata": {},
     "output_type": "execute_result"
    }
   ],
   "source": [
    "%pwd"
   ]
  },
  {
   "cell_type": "code",
   "execution_count": 167,
   "id": "146d5deb",
   "metadata": {
    "scrolled": true
   },
   "outputs": [
    {
     "name": "stdout",
     "output_type": "stream",
     "text": [
      "C:\\Users\\llaur\\Downloads\\ERA_wind\n"
     ]
    }
   ],
   "source": [
    "%cd ../../../../../Downloads/ERA_wind"
   ]
  },
  {
   "cell_type": "code",
   "execution_count": 168,
   "id": "3a620dcf",
   "metadata": {},
   "outputs": [],
   "source": [
    "fine = np.load(\"ERA_wind.npz\")"
   ]
  },
  {
   "cell_type": "markdown",
   "id": "feb1c159",
   "metadata": {},
   "source": [
    "# Load"
   ]
  },
  {
   "cell_type": "markdown",
   "id": "2da8ed44",
   "metadata": {},
   "source": [
    "## Train"
   ]
  },
  {
   "cell_type": "code",
   "execution_count": 169,
   "id": "e6ad8ddf",
   "metadata": {
    "scrolled": true
   },
   "outputs": [
    {
     "name": "stdout",
     "output_type": "stream",
     "text": [
      "C:\\Users\\llaur\\OneDrive\\Desktop\\turb\\proj-turbulence\\train\n"
     ]
    }
   ],
   "source": [
    "%cd ../../OneDrive/Desktop/turb/proj-turbulence/train"
   ]
  },
  {
   "cell_type": "code",
   "execution_count": 170,
   "id": "386a07ce",
   "metadata": {},
   "outputs": [],
   "source": [
    "u = fine.get('wind_u')\n",
    "v = fine.get('wind_v')"
   ]
  },
  {
   "cell_type": "code",
   "execution_count": 171,
   "id": "6ec9d335",
   "metadata": {},
   "outputs": [],
   "source": [
    "# for lat in range(121)\n",
    "#     for lon in range(201):\n",
    "#         # the set of wind speeds at all time stamps at this one point\n",
    "#         wind_speeds = [np.sqrt((u[i][1][lat][lon])**2 + (v[i][1][lat][lon])**2) for i in range (744)]"
   ]
  },
  {
   "cell_type": "markdown",
   "id": "6915675d",
   "metadata": {},
   "source": [
    "List comprehension of wind speeds at level 225"
   ]
  },
  {
   "cell_type": "code",
   "execution_count": 172,
   "id": "90ea905f",
   "metadata": {},
   "outputs": [],
   "source": [
    "wind_speeds = [[[np.sqrt((u[i][1][lat][lon])**2 + (v[i][1][lat][lon])**2) for lon in range(200)] for lat in range(120)] for i in range(744)]"
   ]
  },
  {
   "cell_type": "code",
   "execution_count": 174,
   "id": "26ab3e37",
   "metadata": {},
   "outputs": [
    {
     "data": {
      "text/plain": [
       "(744, 120, 200)"
      ]
     },
     "execution_count": 174,
     "metadata": {},
     "output_type": "execute_result"
    }
   ],
   "source": [
    "len(wind_speeds), len(wind_speeds[0]), len(wind_speeds[0][0])"
   ]
  },
  {
   "cell_type": "code",
   "execution_count": 182,
   "id": "aa38d144",
   "metadata": {},
   "outputs": [],
   "source": [
    "files = os.listdir(os.getcwd())"
   ]
  },
  {
   "cell_type": "markdown",
   "id": "3ee9ccc5",
   "metadata": {},
   "source": [
    "Add to coarse and fine lists in order"
   ]
  },
  {
   "cell_type": "code",
   "execution_count": 184,
   "id": "a3d99a30",
   "metadata": {},
   "outputs": [],
   "source": [
    "coarse_train = []\n",
    "fine_train = []\n",
    "for file in files: # loop thru files\n",
    "    if file[0]==\"w\":\n",
    "        timestamp = file[19:-4]\n",
    "        coarse_train.append(np.load(file)) # load file, save into coarse\n",
    "        fine_train.append(wind_speeds[int(timestamp)]) # load fine version"
   ]
  },
  {
   "cell_type": "code",
   "execution_count": 185,
   "id": "5604a8a4",
   "metadata": {},
   "outputs": [
    {
     "ename": "KeyboardInterrupt",
     "evalue": "",
     "output_type": "error",
     "traceback": [
      "\u001b[1;31m-------------------------------------------------------------------------\u001b[0m",
      "\u001b[1;31mKeyboardInterrupt\u001b[0m                       Traceback (most recent call last)",
      "Input \u001b[1;32mIn [185]\u001b[0m, in \u001b[0;36m<cell line: 2>\u001b[1;34m()\u001b[0m\n\u001b[0;32m      1\u001b[0m \u001b[38;5;28;01mimport\u001b[39;00m \u001b[38;5;21;01mjson\u001b[39;00m\n\u001b[0;32m      2\u001b[0m \u001b[38;5;28;01mwith\u001b[39;00m \u001b[38;5;28mopen\u001b[39m(\u001b[38;5;124m\"\u001b[39m\u001b[38;5;124mwind_speeds.json\u001b[39m\u001b[38;5;124m\"\u001b[39m, \u001b[38;5;124m\"\u001b[39m\u001b[38;5;124mw\u001b[39m\u001b[38;5;124m\"\u001b[39m) \u001b[38;5;28;01mas\u001b[39;00m file:\n\u001b[1;32m----> 3\u001b[0m     \u001b[43mjson\u001b[49m\u001b[38;5;241;43m.\u001b[39;49m\u001b[43mdump\u001b[49m\u001b[43m(\u001b[49m\u001b[43mwind_speeds\u001b[49m\u001b[43m,\u001b[49m\u001b[43m \u001b[49m\u001b[43mfile\u001b[49m\u001b[43m)\u001b[49m\n",
      "File \u001b[1;32m~\\miniconda3\\lib\\json\\__init__.py:180\u001b[0m, in \u001b[0;36mdump\u001b[1;34m(obj, fp, skipkeys, ensure_ascii, check_circular, allow_nan, cls, indent, separators, default, sort_keys, **kw)\u001b[0m\n\u001b[0;32m    177\u001b[0m \u001b[38;5;66;03m# could accelerate with writelines in some versions of Python, at\u001b[39;00m\n\u001b[0;32m    178\u001b[0m \u001b[38;5;66;03m# a debuggability cost\u001b[39;00m\n\u001b[0;32m    179\u001b[0m \u001b[38;5;28;01mfor\u001b[39;00m chunk \u001b[38;5;129;01min\u001b[39;00m iterable:\n\u001b[1;32m--> 180\u001b[0m     \u001b[43mfp\u001b[49m\u001b[38;5;241;43m.\u001b[39;49m\u001b[43mwrite\u001b[49m\u001b[43m(\u001b[49m\u001b[43mchunk\u001b[49m\u001b[43m)\u001b[49m\n",
      "\u001b[1;31mKeyboardInterrupt\u001b[0m: "
     ]
    }
   ],
   "source": [
    "import json\n",
    "with open(\"wind_speeds.json\", \"w\") as file:\n",
    "    json.dump(wind_speeds, file)"
   ]
  },
  {
   "cell_type": "markdown",
   "id": "6dbdd468",
   "metadata": {},
   "source": [
    "595 samples, # lat points, # lon points"
   ]
  },
  {
   "cell_type": "code",
   "execution_count": 186,
   "id": "56abc5ea",
   "metadata": {},
   "outputs": [
    {
     "data": {
      "text/plain": [
       "(595, 15, 25)"
      ]
     },
     "execution_count": 186,
     "metadata": {},
     "output_type": "execute_result"
    }
   ],
   "source": [
    "len(coarse_train), len(coarse_train[0]), len(coarse_train[0][0])"
   ]
  },
  {
   "cell_type": "code",
   "execution_count": 187,
   "id": "07669501",
   "metadata": {},
   "outputs": [
    {
     "data": {
      "text/plain": [
       "(595, 120, 200)"
      ]
     },
     "execution_count": 187,
     "metadata": {},
     "output_type": "execute_result"
    }
   ],
   "source": [
    "len(fine_train), len(fine_train[0]), len(fine_train[0][0])"
   ]
  },
  {
   "cell_type": "markdown",
   "id": "26a2c012",
   "metadata": {},
   "source": [
    "## Val"
   ]
  },
  {
   "cell_type": "code",
   "execution_count": 188,
   "id": "be8a6e12",
   "metadata": {},
   "outputs": [
    {
     "name": "stdout",
     "output_type": "stream",
     "text": [
      "C:\\Users\\llaur\\OneDrive\\Desktop\\turb\\proj-turbulence\\val\n"
     ]
    }
   ],
   "source": [
    "%cd ../val"
   ]
  },
  {
   "cell_type": "code",
   "execution_count": 189,
   "id": "d25daeb4",
   "metadata": {},
   "outputs": [],
   "source": [
    "files = os.listdir(os.getcwd())\n",
    "coarse_val = []\n",
    "fine_val = []\n",
    "for file in files: # loop thru files\n",
    "    if file[0]==\"w\":\n",
    "        timestamp = file[19:-4]\n",
    "        coarse_val.append(np.load(file)) # load file, save into coarse\n",
    "        fine_val.append(wind_speeds[int(timestamp)]) # load fine version"
   ]
  },
  {
   "cell_type": "code",
   "execution_count": 190,
   "id": "1e18bb66",
   "metadata": {},
   "outputs": [
    {
     "data": {
      "text/plain": [
       "(75, 15, 25)"
      ]
     },
     "execution_count": 190,
     "metadata": {},
     "output_type": "execute_result"
    }
   ],
   "source": [
    "len(coarse_val), len(coarse_val[0]), len(coarse_val[0][0])"
   ]
  },
  {
   "cell_type": "code",
   "execution_count": 191,
   "id": "7bfee663",
   "metadata": {},
   "outputs": [
    {
     "data": {
      "text/plain": [
       "(75, 120, 200)"
      ]
     },
     "execution_count": 191,
     "metadata": {},
     "output_type": "execute_result"
    }
   ],
   "source": [
    "len(fine_val), len(fine_val[0]), len(fine_val[0][0])"
   ]
  },
  {
   "cell_type": "markdown",
   "id": "974d4fed",
   "metadata": {},
   "source": [
    "## Test"
   ]
  },
  {
   "cell_type": "code",
   "execution_count": 192,
   "id": "be403755",
   "metadata": {},
   "outputs": [
    {
     "name": "stdout",
     "output_type": "stream",
     "text": [
      "C:\\Users\\llaur\\OneDrive\\Desktop\\turb\\proj-turbulence\\test\n"
     ]
    }
   ],
   "source": [
    "%cd ../test"
   ]
  },
  {
   "cell_type": "code",
   "execution_count": 193,
   "id": "298648b2",
   "metadata": {},
   "outputs": [],
   "source": [
    "files = os.listdir(os.getcwd())\n",
    "coarse_test = []\n",
    "fine_test = []\n",
    "for file in files: # loop thru files\n",
    "    if file[0]==\"w\":\n",
    "        timestamp = file[19:-4]\n",
    "        coarse_test.append(np.load(file)) # load file, save into coarse\n",
    "        fine_test.append(wind_speeds[int(timestamp)]) # load fine version"
   ]
  },
  {
   "cell_type": "code",
   "execution_count": 194,
   "id": "e408887c",
   "metadata": {},
   "outputs": [
    {
     "data": {
      "text/plain": [
       "(74, 15, 25)"
      ]
     },
     "execution_count": 194,
     "metadata": {},
     "output_type": "execute_result"
    }
   ],
   "source": [
    "len(coarse_test), len(coarse_test[0]), len(coarse_test[0][0])"
   ]
  },
  {
   "cell_type": "code",
   "execution_count": 195,
   "id": "4974f592",
   "metadata": {},
   "outputs": [
    {
     "data": {
      "text/plain": [
       "(74, 120, 200, numpy.float64)"
      ]
     },
     "execution_count": 195,
     "metadata": {},
     "output_type": "execute_result"
    }
   ],
   "source": [
    "len(fine_test), len(fine_test[0]), len(fine_test[0][0]), type(fine_test[0][0][0])"
   ]
  },
  {
   "cell_type": "markdown",
   "id": "418e4e1c",
   "metadata": {},
   "source": [
    "# CNN"
   ]
  },
  {
   "cell_type": "code",
   "execution_count": 196,
   "id": "ed9073ab",
   "metadata": {},
   "outputs": [],
   "source": [
    "import torch.nn as nn\n",
    "from torchvision import transforms\n",
    "from torch.utils.data import DataLoader, Dataset\n",
    "import torch.optim as optim"
   ]
  },
  {
   "cell_type": "markdown",
   "id": "b8e9f7f9",
   "metadata": {},
   "source": [
    "## Load Data"
   ]
  },
  {
   "cell_type": "code",
   "execution_count": 210,
   "id": "3cd6cb0d",
   "metadata": {},
   "outputs": [],
   "source": [
    "class PairedImageDataset(Dataset):\n",
    "    def __init__(self, coarse_images, high_res_images, transform=None):\n",
    "        self.coarse_images = coarse_images\n",
    "        self.high_res_images = high_res_images\n",
    "        self.transform = transform\n",
    "\n",
    "    def __len__(self):\n",
    "        return len(self.coarse_images)\n",
    "\n",
    "    def __getitem__(self, idx):\n",
    "        coarse_img = self.coarse_images[idx]\n",
    "        high_res_img = self.high_res_images[idx]\n",
    "\n",
    "        if self.transform:\n",
    "            coarse_img = self.transform(coarse_img)\n",
    "            high_res_img = self.transform(high_res_img)\n",
    "\n",
    "        return coarse_img, high_res_img\n",
    "\n",
    "transform = transforms.Compose([\n",
    "    transforms.ToTensor(),  # Convert images to PyTorch tensors\n",
    "])\n",
    "\n",
    "train = PairedImageDataset(np.array(coarse_train), np.array(fine_train), transform=transform)\n",
    "test = PairedImageDataset(np.array(coarse_test), np.array(fine_test), transform=transform)\n",
    "val = PairedImageDataset(np.array(coarse_val), np.array(fine_val), transform=transform)\n",
    "\n",
    "# load\n",
    "batch_size = 4\n",
    "train_loader = DataLoader(train, batch_size=batch_size, shuffle=True)\n",
    "test_loader = DataLoader(test, batch_size=batch_size, shuffle=True)\n",
    "val_loader = DataLoader(val, batch_size=batch_size, shuffle=True)"
   ]
  },
  {
   "cell_type": "code",
   "execution_count": 211,
   "id": "9d47471a",
   "metadata": {},
   "outputs": [
    {
     "data": {
      "text/plain": [
       "((595, 15, 25), (595, 120, 200))"
      ]
     },
     "execution_count": 211,
     "metadata": {},
     "output_type": "execute_result"
    }
   ],
   "source": [
    "np.array(coarse_train).shape, np.array(fine_train).shape"
   ]
  },
  {
   "cell_type": "markdown",
   "id": "e4288dc3",
   "metadata": {},
   "source": [
    "## Define CNN"
   ]
  },
  {
   "cell_type": "code",
   "execution_count": 212,
   "id": "5f1a4c67",
   "metadata": {},
   "outputs": [],
   "source": [
    "class CNN(nn.Module):\n",
    "    def __init__(self):\n",
    "        upscale = 8\n",
    "        super(CNN, self).__init__()\n",
    "        self.conv_layers = nn.Sequential(\n",
    "            nn.Conv2d(1, 16, kernel_size=3, padding=1),\n",
    "            nn.ReLU(),\n",
    "            nn.Conv2d(16, upscale**2, kernel_size=3, padding=1),\n",
    "            nn.ReLU()\n",
    "        )\n",
    "        self.depth_to_space = nn.PixelShuffle(upscale)\n",
    "        \n",
    "    def forward(self, x):\n",
    "        x = self.conv_layers(x.float())\n",
    "        x = self.depth_to_space(x)\n",
    "        return x\n",
    "    \n",
    "model = CNN()"
   ]
  },
  {
   "cell_type": "markdown",
   "id": "be38c710",
   "metadata": {},
   "source": [
    "## Train CNN"
   ]
  },
  {
   "cell_type": "code",
   "execution_count": 213,
   "id": "f4264fd8",
   "metadata": {},
   "outputs": [],
   "source": [
    "import torch"
   ]
  },
  {
   "cell_type": "code",
   "execution_count": 214,
   "id": "768611ce",
   "metadata": {},
   "outputs": [
    {
     "name": "stderr",
     "output_type": "stream",
     "text": [
      "C:\\Users\\llaur\\miniconda3\\lib\\site-packages\\torch\\nn\\modules\\loss.py:536: UserWarning: Using a target size (torch.Size([4, 120, 200])) that is different to the input size (torch.Size([4, 1, 120, 200])). This will likely lead to incorrect results due to broadcasting. Please ensure they have the same size.\n",
      "  return F.mse_loss(input, target, reduction=self.reduction)\n"
     ]
    },
    {
     "name": "stdout",
     "output_type": "stream",
     "text": [
      "Epoch 1/10, Loss: 449.363037109375, Val Loss: 588.4797041252593\n",
      "Epoch 2/10, Loss: 395.72430419921875, Val Loss: 560.7319868372161\n",
      "Epoch 3/10, Loss: 454.10247802734375, Val Loss: 365.87505740383756\n",
      "Epoch 4/10, Loss: 464.1881103515625, Val Loss: 463.16209173852405\n",
      "Epoch 5/10, Loss: 429.2926025390625, Val Loss: 450.87124734734226\n",
      "Epoch 6/10, Loss: 415.2659606933594, Val Loss: 410.6549552528233\n",
      "Epoch 7/10, Loss: 451.0671081542969, Val Loss: 387.6818406630731\n",
      "Epoch 8/10, Loss: 576.3726806640625, Val Loss: 331.99090897406484\n",
      "Epoch 9/10, Loss: 588.3734130859375, Val Loss: 393.5991050704843\n",
      "Epoch 10/10, Loss: 454.97222900390625, Val Loss: 406.9644133950446\n"
     ]
    }
   ],
   "source": [
    "criterion = nn.MSELoss()\n",
    "optimizer = optim.NAdam(cnn.parameters(), lr=0.00005)\n",
    "\n",
    "# Training loop\n",
    "num_epochs = 10\n",
    "for epoch in range(num_epochs):\n",
    "    model.train()\n",
    "    for inputs, targets in train_loader:\n",
    "        optimizer.zero_grad()\n",
    "        \n",
    "#         inputs = inputs.squeeze()\n",
    "        targets = targets.squeeze() \n",
    "#         print(\"shapes::::\", inputs.shape, targets.shape)\n",
    "        outputs = model(inputs)\n",
    "        \n",
    "        loss = criterion(outputs, targets.squeeze().float())\n",
    "        loss.backward()\n",
    "        optimizer.step()\n",
    "    # Validation\n",
    "    model.eval()\n",
    "    with torch.no_grad():\n",
    "        for inputs, targets in val_loader:\n",
    "            outputs = model(inputs)\n",
    "            val_loss = criterion(outputs, targets.squeeze())\n",
    "    print(f'Epoch {epoch+1}/{num_epochs}, Loss: {loss.item()}, Val Loss: {val_loss.item()}')\n"
   ]
  },
  {
   "cell_type": "code",
   "execution_count": null,
   "id": "403e537b",
   "metadata": {},
   "outputs": [],
   "source": []
  }
 ],
 "metadata": {
  "kernelspec": {
   "display_name": "Python 3 (ipykernel)",
   "language": "python",
   "name": "python3"
  },
  "language_info": {
   "codemirror_mode": {
    "name": "ipython",
    "version": 3
   },
   "file_extension": ".py",
   "mimetype": "text/x-python",
   "name": "python",
   "nbconvert_exporter": "python",
   "pygments_lexer": "ipython3",
   "version": "3.9.12"
  }
 },
 "nbformat": 4,
 "nbformat_minor": 5
}
